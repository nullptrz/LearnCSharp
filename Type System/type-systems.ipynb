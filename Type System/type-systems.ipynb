{
 "cells": [
  {
   "cell_type": "markdown",
   "metadata": {},
   "source": [
    "# Primitive Types"
   ]
  },
  {
   "cell_type": "code",
   "execution_count": 2,
   "metadata": {
    "dotnet_interactive": {
     "language": "csharp"
    },
    "polyglot_notebook": {
     "kernelName": "csharp"
    },
    "vscode": {
     "languageId": "polyglot-notebook"
    }
   },
   "outputs": [],
   "source": [
    "int x = 5;\n",
    "string y = \"Hello, World\";\n",
    "bool a = true;\n",
    "double b = 3.14;\n",
    "char c = 'A';\n",
    "float d = 2.14F;\n",
    "long e = 1234567890L;\n",
    "short f = 12345;\n",
    "byte g = 123;"
   ]
  },
  {
   "cell_type": "code",
   "execution_count": 3,
   "metadata": {
    "dotnet_interactive": {
     "language": "csharp"
    },
    "polyglot_notebook": {
     "kernelName": "csharp"
    },
    "vscode": {
     "languageId": "polyglot-notebook"
    }
   },
   "outputs": [],
   "source": [
    "public class Animal {\n",
    "    public string family;\n",
    "    public Animal(string family) {\n",
    "        this.family = family;\n",
    "    }\n",
    "}\n",
    "\n",
    "Animal animal = new Animal(\"Mammal\");"
   ]
  },
  {
   "cell_type": "code",
   "execution_count": 4,
   "metadata": {
    "dotnet_interactive": {
     "language": "csharp"
    },
    "polyglot_notebook": {
     "kernelName": "csharp"
    },
    "vscode": {
     "languageId": "polyglot-notebook"
    }
   },
   "outputs": [],
   "source": [
    "public interface Sounds {\n",
    "    abstract void makeSound();\n",
    "}\n",
    "\n",
    "public class Dolphin : Animal, Sounds {\n",
    "    public Dolphin() : base(\"Mammal\") {}\n",
    "    public void makeSound() {\n",
    "        Console.WriteLine(\"Dolphin sound\");\n",
    "    }\n",
    "}"
   ]
  },
  {
   "cell_type": "code",
   "execution_count": 5,
   "metadata": {
    "dotnet_interactive": {
     "language": "csharp"
    },
    "polyglot_notebook": {
     "kernelName": "csharp"
    },
    "vscode": {
     "languageId": "polyglot-notebook"
    }
   },
   "outputs": [],
   "source": [
    "Dolphin dolphi = new Dolphin();"
   ]
  },
  {
   "cell_type": "code",
   "execution_count": 6,
   "metadata": {
    "dotnet_interactive": {
     "language": "csharp"
    },
    "polyglot_notebook": {
     "kernelName": "csharp"
    },
    "vscode": {
     "languageId": "polyglot-notebook"
    }
   },
   "outputs": [
    {
     "name": "stdout",
     "output_type": "stream",
     "text": [
      "Dolphin sound\n"
     ]
    }
   ],
   "source": [
    "dolphi.makeSound();"
   ]
  },
  {
   "cell_type": "code",
   "execution_count": 9,
   "metadata": {
    "dotnet_interactive": {
     "language": "csharp"
    },
    "polyglot_notebook": {
     "kernelName": "csharp"
    },
    "vscode": {
     "languageId": "polyglot-notebook"
    }
   },
   "outputs": [],
   "source": [
    "interface IEquatable<T> {\n",
    "    bool Equals(T obj);\n",
    "}\n",
    "\n",
    "public class Car : IEquatable<Car> {\n",
    "    public string? name { get; set; }\n",
    "    public string? type { get; set; }\n",
    "    public string? make { get; set; }\n",
    "\n",
    "    public Car(string name, string type, string make) {\n",
    "        this.name = name;\n",
    "        this.type = type;\n",
    "        this.make = make;\n",
    "    }\n",
    "    \n",
    "    public bool Equals(Car? car) {\n",
    "        return this.name == car.name && this.type == car.type && this.make == car.make;\n",
    "    }\n",
    "}"
   ]
  },
  {
   "cell_type": "code",
   "execution_count": 10,
   "metadata": {
    "dotnet_interactive": {
     "language": "csharp"
    },
    "polyglot_notebook": {
     "kernelName": "csharp"
    },
    "vscode": {
     "languageId": "polyglot-notebook"
    }
   },
   "outputs": [],
   "source": [
    "Car car = new Car(\"Toyota\", \"SUV\", \"2021\");"
   ]
  },
  {
   "cell_type": "code",
   "execution_count": 15,
   "metadata": {
    "dotnet_interactive": {
     "language": "csharp"
    },
    "polyglot_notebook": {
     "kernelName": "csharp"
    },
    "vscode": {
     "languageId": "polyglot-notebook"
    }
   },
   "outputs": [],
   "source": [
    "Car car2 = new Car(\"Toyota\", \"SUV\", \"2021\");"
   ]
  },
  {
   "cell_type": "code",
   "execution_count": 16,
   "metadata": {
    "dotnet_interactive": {
     "language": "csharp"
    },
    "polyglot_notebook": {
     "kernelName": "csharp"
    },
    "vscode": {
     "languageId": "polyglot-notebook"
    }
   },
   "outputs": [
    {
     "name": "stdout",
     "output_type": "stream",
     "text": [
      "True\n"
     ]
    }
   ],
   "source": [
    "Console.WriteLine(car.Equals(car2));"
   ]
  },
  {
   "cell_type": "code",
   "execution_count": 17,
   "metadata": {
    "dotnet_interactive": {
     "language": "csharp"
    },
    "polyglot_notebook": {
     "kernelName": "csharp"
    },
    "vscode": {
     "languageId": "polyglot-notebook"
    }
   },
   "outputs": [
    {
     "name": "stdout",
     "output_type": "stream",
     "text": [
      "90\n",
      "93\n",
      "98\n"
     ]
    }
   ],
   "source": [
    "int[] scores = [90, 93, 54, 35, 60, 98];\n",
    "\n",
    "IEnumerable<int> scoreQuery = from score in scores where score > 80 select score;\n",
    "\n",
    "foreach(int score in scoreQuery) {\n",
    "    Console.WriteLine(score);\n",
    "}"
   ]
  },
  {
   "cell_type": "code",
   "execution_count": 1,
   "metadata": {
    "dotnet_interactive": {
     "language": "csharp"
    },
    "polyglot_notebook": {
     "kernelName": "csharp"
    },
    "vscode": {
     "languageId": "polyglot-notebook"
    }
   },
   "outputs": [
    {
     "name": "stdout",
     "output_type": "stream",
     "text": [
      "5 + 10 = 15\n",
      "5 - 10 = -5\n",
      "5 * 10 = 50\n",
      "5 / 10 = 0\n"
     ]
    }
   ],
   "source": [
    "int sum = 5 + 10;\n",
    "int difference = 5 - 10;\n",
    "int product = 5 * 10;\n",
    "int quotient = 5 / 10;\n",
    "\n",
    "Console.WriteLine($\"5 + 10 = {sum}\");\n",
    "Console.WriteLine($\"5 - 10 = {difference}\");\n",
    "Console.WriteLine($\"5 * 10 = {product}\");\n",
    "Console.WriteLine($\"5 / 10 = {quotient}\"); // Integer division which truncates the decimal part as integers"
   ]
  },
  {
   "cell_type": "code",
   "execution_count": null,
   "metadata": {
    "dotnet_interactive": {
     "language": "csharp"
    },
    "polyglot_notebook": {
     "kernelName": "csharp"
    },
    "vscode": {
     "languageId": "polyglot-notebook"
    }
   },
   "outputs": [],
   "source": []
  }
 ],
 "metadata": {
  "kernelspec": {
   "display_name": ".NET (C#)",
   "language": "C#",
   "name": ".net-csharp"
  },
  "language_info": {
   "name": "python"
  },
  "polyglot_notebook": {
   "kernelInfo": {
    "defaultKernelName": "csharp",
    "items": [
     {
      "aliases": [],
      "name": "csharp"
     }
    ]
   }
  }
 },
 "nbformat": 4,
 "nbformat_minor": 2
}
